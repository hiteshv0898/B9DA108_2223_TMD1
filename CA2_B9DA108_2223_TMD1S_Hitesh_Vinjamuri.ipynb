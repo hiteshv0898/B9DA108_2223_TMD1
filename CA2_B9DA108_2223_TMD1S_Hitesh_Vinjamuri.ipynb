{
  "nbformat": 4,
  "nbformat_minor": 0,
  "metadata": {
    "colab": {
      "provenance": [],
      "authorship_tag": "ABX9TyOx2A0IFp+HIxbThPfQ1nQv",
      "include_colab_link": true
    },
    "kernelspec": {
      "name": "python3",
      "display_name": "Python 3"
    },
    "language_info": {
      "name": "python"
    }
  },
  "cells": [
    {
      "cell_type": "markdown",
      "metadata": {
        "id": "view-in-github",
        "colab_type": "text"
      },
      "source": [
        "<a href=\"https://colab.research.google.com/github/hiteshv0898/B9DA108_2223_TMD1/blob/main/CA2_B9DA108_2223_TMD1S_Hitesh_Vinjamuri.ipynb\" target=\"_parent\"><img src=\"https://colab.research.google.com/assets/colab-badge.svg\" alt=\"Open In Colab\"/></a>"
      ]
    },
    {
      "cell_type": "code",
      "execution_count": null,
      "metadata": {
        "id": "YdZK66VrbZsE"
      },
      "outputs": [],
      "source": [
        "import requests\n",
        "import json\n",
        "import pandas as pd\n",
        "import os\n",
        "from selenium import webdriver\n",
        "from bs4 import BeautifulSoup  \n",
        "import time\n",
        "from time import sleep\n",
        "from selenium import webdriver\n",
        "from selenium.webdriver.common.by import By\n",
        "from selenium.webdriver.support.ui import WebDriverWait\n",
        "from selenium.webdriver.support import expected_conditions as EC\n",
        "from selenium.webdriver.common.action_chains import ActionChains\n",
        "from selenium.webdriver.common.keys import Keys\n",
        "import traceback\n",
        "from webdriver_manager.chrome import ChromeDriverManager  "
      ]
    },
    {
      "cell_type": "code",
      "source": [
        "data=\"start=2022-11-14&end=2022-11-21&resType=105&calView=agendaWeek&federationIds%5B%5D=BMS09DNL+-+1F09+-+D&colourScheme=3\"\n",
        "url=\"https://tts.dbs.ie/Home/GetCalendarData\"\n",
        "headers={'accept':'application/json, text/javascript, */*; q=0.01', \n",
        "'accept-encoding':'gzip, deflate', \n",
        "'accept-language':'en-US,en;q=0.9', \n",
        "'content-length':'117', \n",
        "'content-type':'application/x-www-form-urlencoded; charset=UTF-8', \n",
        "'cookie':'_gcl_au=1.1.260994503.1662441833; __qca=P0-919356016-1662441833071; _fbp=fb.1.1662441838126.1674965546; _ga=GA1.2.1839734072.1662441833; _ga_JFYJ9XY40Z=GS1.1.1662441832.1.1.1662442199.0.0.0; _gid=GA1.2.2000243688.1668187550; .AspNetCore.Antiforgery.VsQGwGXGqGs=CfDJ8COt6JyvYllHn2LKaujQYkYnG3Wx0hKZoUYP7vRp_6qUADHD0J1GAsBASBW8bQarYy55Wk_OryAAaHv6iCk4t7joF8DVqt6V-4ivmPCUBAgz1kHckR-tI7llycnjuTSPOdafytV6NeQwrA6rw7LbIRA; .Celcat.Calendar.Session=CfDJ8COt6JyvYllHn2LKaujQYkasdSOJeknOcBnzXJij9c2Zn4UouuE38z5xBsxoE9Q0dvWcQWAnATh7OQkGOr9cachJgioiRGK62jyuZ5EPM4taPhkFYTR4Zbd3IJ66MzYkR9FDVv4nq9XO10NV5FysJwEQ1yKiv9i2Nxw%2F%2FEDPMcI9', \n",
        "'origin':'https://tts.dbs.ie', \n",
        "'referer':'https://tts.dbs.ie/cal?vt=agendaWeek&dt=2022-11-14&et=team&fid0=BMS09DNL%20-%201F09%20-%20D', \n",
        "'sec-ch-ua':'\"Microsoft Edge\";v=\"107\", \"Chromium\";v=\"107\", \"Not=A?Brand\";v=\"24\"', \n",
        "'sec-ch-ua-mobile':'?0', \n",
        "'sec-ch-ua-platform':'\"Windows\"', \n",
        "'sec-fetch-dest':'empty', \n",
        "'sec-fetch-mode':'cors', \n",
        "'sec-fetch-site':'same-origin', \n",
        "'user-agent':'Mozilla/5.0 (Windows NT 10.0; Win64; x64) AppleWebKit/537.36 (KHTML, like Gecko) Chrome/107.0.0.0 Safari/537.36 Edg/107.0.1418.42', \n",
        "'x-requested-with':'XMLHttpRequest'}"
      ],
      "metadata": {
        "id": "0u0J1uDGcVCr"
      },
      "execution_count": null,
      "outputs": []
    },
    {
      "cell_type": "code",
      "source": [
        "for i in headers:\n",
        "  strg = headers.get(i)\n",
        "  strg.encode('utf-8').strip()"
      ],
      "metadata": {
        "id": "V-3PNsygcVub"
      },
      "execution_count": null,
      "outputs": []
    },
    {
      "cell_type": "code",
      "source": [
        "resp=requests.post(url,data=data,headers=headers)"
      ],
      "metadata": {
        "id": "m_FAGvGncVw4"
      },
      "execution_count": null,
      "outputs": []
    },
    {
      "cell_type": "code",
      "source": [
        "d=json.loads(resp.content)"
      ],
      "metadata": {
        "id": "_2b50krHcVzA"
      },
      "execution_count": null,
      "outputs": []
    }
  ]
}