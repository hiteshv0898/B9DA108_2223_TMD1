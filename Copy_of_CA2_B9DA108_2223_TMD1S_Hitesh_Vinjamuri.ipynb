{
  "nbformat": 4,
  "nbformat_minor": 0,
  "metadata": {
    "colab": {
      "provenance": [],
      "authorship_tag": "ABX9TyMxkPHHiTk7s3LRrLYcGqOQ",
      "include_colab_link": true
    },
    "kernelspec": {
      "name": "python3",
      "display_name": "Python 3"
    },
    "language_info": {
      "name": "python"
    }
  },
  "cells": [
    {
      "cell_type": "markdown",
      "metadata": {
        "id": "view-in-github",
        "colab_type": "text"
      },
      "source": [
        "<a href=\"https://colab.research.google.com/github/hiteshv0898/B9DA108_2223_TMD1/blob/main/Copy_of_CA2_B9DA108_2223_TMD1S_Hitesh_Vinjamuri.ipynb\" target=\"_parent\"><img src=\"https://colab.research.google.com/assets/colab-badge.svg\" alt=\"Open In Colab\"/></a>"
      ]
    },
    {
      "cell_type": "code",
      "execution_count": null,
      "metadata": {
        "id": "YdZK66VrbZsE"
      },
      "outputs": [],
      "source": [
        "import requests\n",
        "from bs4 import BeautifulSoup\n",
        "import pandas as pd"
      ]
    },
    {
      "cell_type": "code",
      "source": [
        "url = 'https://www.worldometers.info/co2-emissions/'\n",
        "page = requests.get(url)"
      ],
      "metadata": {
        "id": "0u0J1uDGcVCr"
      },
      "execution_count": null,
      "outputs": []
    },
    {
      "cell_type": "code",
      "source": [
        "for i in headers:\n",
        "  strg = headers.get(i)\n",
        "  strg.encode('utf-8').strip()"
      ],
      "metadata": {
        "id": "V-3PNsygcVub"
      },
      "execution_count": null,
      "outputs": []
    },
    {
      "cell_type": "code",
      "source": [
        "resp=requests.post(url,data=data,headers=headers)"
      ],
      "metadata": {
        "id": "m_FAGvGncVw4"
      },
      "execution_count": null,
      "outputs": []
    },
    {
      "cell_type": "code",
      "source": [
        "d=json.loads(resp.content)"
      ],
      "metadata": {
        "id": "_2b50krHcVzA"
      },
      "execution_count": null,
      "outputs": []
    }
  ]
}